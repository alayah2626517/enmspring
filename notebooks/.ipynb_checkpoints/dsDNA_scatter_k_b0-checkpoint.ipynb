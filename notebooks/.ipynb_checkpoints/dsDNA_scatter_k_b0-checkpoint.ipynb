{
 "cells": [
  {
   "cell_type": "markdown",
   "metadata": {},
   "source": [
    "### Part 0: Initialize"
   ]
  },
  {
   "cell_type": "code",
   "execution_count": 1,
   "metadata": {},
   "outputs": [],
   "source": [
    "import molecular_interaction, k_b0_util, figS2_dsDNA\n",
    "d_natom = {'arna+arna': 676, 'bdna+bdna': 650}"
   ]
  },
  {
   "cell_type": "code",
   "execution_count": 2,
   "metadata": {},
   "outputs": [
    {
     "name": "stdout",
     "output_type": "stream",
     "text": [
      "/home/yizaochen/PycharmProjects/ENM/pnas_amber_16mer/bdna+bdna/w_vector exists\n",
      "/home/yizaochen/PycharmProjects/ENM/pnas_amber_16mer/bdna+bdna/weak_allmodes exists\n",
      "/home/yizaochen/PycharmProjects/ENM/pnas_amber_16mer/bdna+bdna/contributions exists\n",
      "/home/yizaochen/PycharmProjects/ENM/pnas_amber_16mer/bdna+bdna/pd_dfs exists\n",
      "/home/yizaochen/PycharmProjects/ENM/pnas_amber_16mer/bdna+bdna/qha_fm_map_df exists\n",
      "/home/yizaochen/PycharmProjects/ENM/pnas_amber_16mer/bdna+bdna/k_matrices exists\n",
      "/home/yizaochen/PycharmProjects/ENM/pnas_amber_16mer/bdna+bdna/svd exists\n",
      "/home/yizaochen/PycharmProjects/ENM/pnas_amber_16mer/bdna+bdna/bondlist exists\n",
      "/home/yizaochen/PycharmProjects/ENM/pnas_amber_16mer/bdna+bdna/diffcutoff exists\n"
     ]
    }
   ],
   "source": [
    "host = 'pnas_amber_16mer'\n",
    "type_na = 'bdna+bdna'\n",
    "\n",
    "n_bp = 16\n",
    "n_atom = d_natom[type_na]\n",
    "ml_agent = molecular_interaction.MolecularInteractionAgent(host, type_na, n_bp=n_bp, n_atoms=n_atom)"
   ]
  },
  {
   "cell_type": "markdown",
   "metadata": {},
   "source": [
    "### Part 1: Process Data"
   ]
  },
  {
   "cell_type": "code",
   "execution_count": 3,
   "metadata": {},
   "outputs": [],
   "source": [
    "cutoff = 4.7\n",
    "df0 = ml_agent.read_k_b0_pairtype_df_given_cutoff(cutoff)\n",
    "df_central_bps = k_b0_util.get_central_bps_df(df0)"
   ]
  },
  {
   "cell_type": "code",
   "execution_count": 4,
   "metadata": {},
   "outputs": [
    {
     "data": {
      "text/html": [
       "<div>\n",
       "<style scoped>\n",
       "    .dataframe tbody tr th:only-of-type {\n",
       "        vertical-align: middle;\n",
       "    }\n",
       "\n",
       "    .dataframe tbody tr th {\n",
       "        vertical-align: top;\n",
       "    }\n",
       "\n",
       "    .dataframe thead th {\n",
       "        text-align: right;\n",
       "    }\n",
       "</style>\n",
       "<table border=\"1\" class=\"dataframe\">\n",
       "  <thead>\n",
       "    <tr style=\"text-align: right;\">\n",
       "      <th></th>\n",
       "      <th>PairID</th>\n",
       "      <th>PairType</th>\n",
       "      <th>Big_Category</th>\n",
       "      <th>Strand_i</th>\n",
       "      <th>Resid_i</th>\n",
       "      <th>Atomname_i</th>\n",
       "      <th>Atomid_i</th>\n",
       "      <th>Strand_j</th>\n",
       "      <th>Resid_j</th>\n",
       "      <th>Atomname_j</th>\n",
       "      <th>Atomid_j</th>\n",
       "      <th>k</th>\n",
       "      <th>b0</th>\n",
       "    </tr>\n",
       "  </thead>\n",
       "  <tbody>\n",
       "    <tr>\n",
       "      <th>783</th>\n",
       "      <td>784</td>\n",
       "      <td>same-P-P-0</td>\n",
       "      <td>backbone</td>\n",
       "      <td>STRAND1</td>\n",
       "      <td>4</td>\n",
       "      <td>P</td>\n",
       "      <td>61</td>\n",
       "      <td>STRAND1</td>\n",
       "      <td>4</td>\n",
       "      <td>O1P</td>\n",
       "      <td>62</td>\n",
       "      <td>6.8657</td>\n",
       "      <td>1.3008</td>\n",
       "    </tr>\n",
       "    <tr>\n",
       "      <th>784</th>\n",
       "      <td>785</td>\n",
       "      <td>same-P-P-0</td>\n",
       "      <td>backbone</td>\n",
       "      <td>STRAND1</td>\n",
       "      <td>4</td>\n",
       "      <td>P</td>\n",
       "      <td>61</td>\n",
       "      <td>STRAND1</td>\n",
       "      <td>4</td>\n",
       "      <td>O2P</td>\n",
       "      <td>63</td>\n",
       "      <td>13.6940</td>\n",
       "      <td>1.3401</td>\n",
       "    </tr>\n",
       "    <tr>\n",
       "      <th>785</th>\n",
       "      <td>786</td>\n",
       "      <td>same-P-P-0</td>\n",
       "      <td>backbone</td>\n",
       "      <td>STRAND1</td>\n",
       "      <td>4</td>\n",
       "      <td>P</td>\n",
       "      <td>61</td>\n",
       "      <td>STRAND1</td>\n",
       "      <td>4</td>\n",
       "      <td>O5'</td>\n",
       "      <td>64</td>\n",
       "      <td>5.4170</td>\n",
       "      <td>1.4065</td>\n",
       "    </tr>\n",
       "    <tr>\n",
       "      <th>786</th>\n",
       "      <td>787</td>\n",
       "      <td>same-P-P-0</td>\n",
       "      <td>backbone</td>\n",
       "      <td>STRAND1</td>\n",
       "      <td>4</td>\n",
       "      <td>P</td>\n",
       "      <td>61</td>\n",
       "      <td>STRAND1</td>\n",
       "      <td>4</td>\n",
       "      <td>C5'</td>\n",
       "      <td>65</td>\n",
       "      <td>0.4939</td>\n",
       "      <td>2.3476</td>\n",
       "    </tr>\n",
       "    <tr>\n",
       "      <th>790</th>\n",
       "      <td>791</td>\n",
       "      <td>same-P-S-0</td>\n",
       "      <td>backbone</td>\n",
       "      <td>STRAND1</td>\n",
       "      <td>4</td>\n",
       "      <td>P</td>\n",
       "      <td>61</td>\n",
       "      <td>STRAND1</td>\n",
       "      <td>4</td>\n",
       "      <td>C3'</td>\n",
       "      <td>77</td>\n",
       "      <td>2.2030</td>\n",
       "      <td>4.3358</td>\n",
       "    </tr>\n",
       "  </tbody>\n",
       "</table>\n",
       "</div>"
      ],
      "text/plain": [
       "     PairID    PairType Big_Category Strand_i  Resid_i Atomname_i  Atomid_i  \\\n",
       "783     784  same-P-P-0     backbone  STRAND1        4          P        61   \n",
       "784     785  same-P-P-0     backbone  STRAND1        4          P        61   \n",
       "785     786  same-P-P-0     backbone  STRAND1        4          P        61   \n",
       "786     787  same-P-P-0     backbone  STRAND1        4          P        61   \n",
       "790     791  same-P-S-0     backbone  STRAND1        4          P        61   \n",
       "\n",
       "    Strand_j  Resid_j Atomname_j  Atomid_j        k      b0  \n",
       "783  STRAND1        4        O1P        62   6.8657  1.3008  \n",
       "784  STRAND1        4        O2P        63  13.6940  1.3401  \n",
       "785  STRAND1        4        O5'        64   5.4170  1.4065  \n",
       "786  STRAND1        4        C5'        65   0.4939  2.3476  \n",
       "790  STRAND1        4        C3'        77   2.2030  4.3358  "
      ]
     },
     "execution_count": 4,
     "metadata": {},
     "output_type": "execute_result"
    }
   ],
   "source": [
    "df_central_bps.head()"
   ]
  },
  {
   "cell_type": "markdown",
   "metadata": {},
   "source": [
    "### Part 3: Scatter k-b0"
   ]
  },
  {
   "cell_type": "code",
   "execution_count": 10,
   "metadata": {},
   "outputs": [],
   "source": [
    "figsize=(6.4, 3.33)\n",
    "dpi=300\n",
    "dsdna = figS2_dsDNA.dsDNA(df_central_bps, figsize, dpi)"
   ]
  },
  {
   "cell_type": "code",
   "execution_count": 11,
   "metadata": {},
   "outputs": [
    {
     "data": {
      "image/png": "[encoded data removed]",
      "text/plain": [
       "<Figure size 460.8x239.76 with 6 Axes>"
      ]
     },
     "metadata": {
      "needs_background": "light"
     },
     "output_type": "display_data"
    }
   ],
   "source": [
    "dsdna.plot_main()"
   ]
  },
  {
   "cell_type": "code",
   "execution_count": 47,
   "metadata": {},
   "outputs": [
    {
     "data": {
      "text/plain": [
       "3.3302879841112216"
      ]
     },
     "execution_count": 47,
     "metadata": {},
     "output_type": "execute_result"
    }
   ],
   "source": [
    "6.4 * 1048 / 2014"
   ]
  },
  {
   "cell_type": "markdown",
   "metadata": {},
   "source": [
    "### Reload Function"
   ]
  },
  {
   "cell_type": "code",
   "execution_count": 8,
   "metadata": {},
   "outputs": [
    {
     "data": {
      "text/plain": [
       "<module 'figS2_dsDNA' from '/home/yizaochen/PycharmProjects/na_paper1_2019/ipynbs/draw_zone/figureS2/figS2_dsDNA.py'>"
      ]
     },
     "execution_count": 8,
     "metadata": {},
     "output_type": "execute_result"
    }
   ],
   "source": [
    "from imp import reload\n",
    "reload(figS2_dsDNA)"
   ]
  },
  {
   "cell_type": "code",
   "execution_count": null,
   "metadata": {},
   "outputs": [],
   "source": []
  }
 ],
 "metadata": {
  "kernelspec": {
   "display_name": "Python 3",
   "language": "python",
   "name": "python3"
  },
  "language_info": {
   "codemirror_mode": {
    "name": "ipython",
    "version": 3
   },
   "file_extension": ".py",
   "mimetype": "text/x-python",
   "name": "python",
   "nbconvert_exporter": "python",
   "pygments_lexer": "ipython3",
   "version": "3.7.4"
  }
 },
 "nbformat": 4,
 "nbformat_minor": 4
}
