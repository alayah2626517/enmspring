{
 "cells": [
  {
   "cell_type": "code",
   "execution_count": 12,
   "metadata": {},
   "outputs": [],
   "source": [
    "import numpy as np\n",
    "from enmspring.graphs import GraphAgent\n",
    "import matplotlib.pyplot as plt\n",
    "rootfolder = '/home/yizaochen/codes/dna_rna/fluctmatch_sequence'\n",
    "rtol=1e-05\n",
    "atol=1e-08"
   ]
  },
  {
   "cell_type": "markdown",
   "metadata": {},
   "source": [
    "### Part 1: Initialize"
   ]
  },
  {
   "cell_type": "code",
   "execution_count": 2,
   "metadata": {},
   "outputs": [
    {
     "name": "stdout",
     "output_type": "stream",
     "text": [
      "/home/yizaochen/codes/dna_rna/fluctmatch_sequence/ctct_21mer/bdna+bdna/pd_dfs exists\n"
     ]
    }
   ],
   "source": [
    "host = 'ctct_21mer'\n",
    "g_agent = GraphAgent(host, rootfolder)"
   ]
  },
  {
   "cell_type": "code",
   "execution_count": 3,
   "metadata": {},
   "outputs": [
    {
     "data": {
      "text/html": [
       "<div>\n",
       "<style scoped>\n",
       "    .dataframe tbody tr th:only-of-type {\n",
       "        vertical-align: middle;\n",
       "    }\n",
       "\n",
       "    .dataframe tbody tr th {\n",
       "        vertical-align: top;\n",
       "    }\n",
       "\n",
       "    .dataframe thead th {\n",
       "        text-align: right;\n",
       "    }\n",
       "</style>\n",
       "<table border=\"1\" class=\"dataframe\">\n",
       "  <thead>\n",
       "    <tr style=\"text-align: right;\">\n",
       "      <th></th>\n",
       "      <th>PairID</th>\n",
       "      <th>PairType</th>\n",
       "      <th>Big_Category</th>\n",
       "      <th>Strand_i</th>\n",
       "      <th>Resid_i</th>\n",
       "      <th>Atomname_i</th>\n",
       "      <th>Atomid_i</th>\n",
       "      <th>Strand_j</th>\n",
       "      <th>Resid_j</th>\n",
       "      <th>Atomname_j</th>\n",
       "      <th>Atomid_j</th>\n",
       "      <th>k</th>\n",
       "      <th>b0</th>\n",
       "    </tr>\n",
       "  </thead>\n",
       "  <tbody>\n",
       "    <tr>\n",
       "      <th>72</th>\n",
       "      <td>73</td>\n",
       "      <td>STACK-1</td>\n",
       "      <td>stack</td>\n",
       "      <td>STRAND1</td>\n",
       "      <td>1</td>\n",
       "      <td>N1</td>\n",
       "      <td>6</td>\n",
       "      <td>STRAND1</td>\n",
       "      <td>2</td>\n",
       "      <td>C6</td>\n",
       "      <td>26</td>\n",
       "      <td>0.5612</td>\n",
       "      <td>3.9443</td>\n",
       "    </tr>\n",
       "    <tr>\n",
       "      <th>73</th>\n",
       "      <td>74</td>\n",
       "      <td>STACK-1</td>\n",
       "      <td>stack</td>\n",
       "      <td>STRAND1</td>\n",
       "      <td>1</td>\n",
       "      <td>N1</td>\n",
       "      <td>6</td>\n",
       "      <td>STRAND1</td>\n",
       "      <td>2</td>\n",
       "      <td>C5</td>\n",
       "      <td>27</td>\n",
       "      <td>0.9818</td>\n",
       "      <td>3.8171</td>\n",
       "    </tr>\n",
       "    <tr>\n",
       "      <th>74</th>\n",
       "      <td>75</td>\n",
       "      <td>STACK-1</td>\n",
       "      <td>stack</td>\n",
       "      <td>STRAND1</td>\n",
       "      <td>1</td>\n",
       "      <td>N1</td>\n",
       "      <td>6</td>\n",
       "      <td>STRAND1</td>\n",
       "      <td>2</td>\n",
       "      <td>C7</td>\n",
       "      <td>28</td>\n",
       "      <td>0.6615</td>\n",
       "      <td>3.8506</td>\n",
       "    </tr>\n",
       "    <tr>\n",
       "      <th>85</th>\n",
       "      <td>86</td>\n",
       "      <td>STACK-1</td>\n",
       "      <td>stack</td>\n",
       "      <td>STRAND1</td>\n",
       "      <td>1</td>\n",
       "      <td>C6</td>\n",
       "      <td>7</td>\n",
       "      <td>STRAND1</td>\n",
       "      <td>2</td>\n",
       "      <td>C5</td>\n",
       "      <td>27</td>\n",
       "      <td>0.3479</td>\n",
       "      <td>4.0620</td>\n",
       "    </tr>\n",
       "    <tr>\n",
       "      <th>86</th>\n",
       "      <td>87</td>\n",
       "      <td>STACK-1</td>\n",
       "      <td>stack</td>\n",
       "      <td>STRAND1</td>\n",
       "      <td>1</td>\n",
       "      <td>C6</td>\n",
       "      <td>7</td>\n",
       "      <td>STRAND1</td>\n",
       "      <td>2</td>\n",
       "      <td>C7</td>\n",
       "      <td>28</td>\n",
       "      <td>1.0008</td>\n",
       "      <td>3.6941</td>\n",
       "    </tr>\n",
       "  </tbody>\n",
       "</table>\n",
       "</div>"
      ],
      "text/plain": [
       "    PairID PairType Big_Category Strand_i  Resid_i Atomname_i  Atomid_i  \\\n",
       "72      73  STACK-1        stack  STRAND1        1         N1         6   \n",
       "73      74  STACK-1        stack  STRAND1        1         N1         6   \n",
       "74      75  STACK-1        stack  STRAND1        1         N1         6   \n",
       "85      86  STACK-1        stack  STRAND1        1         C6         7   \n",
       "86      87  STACK-1        stack  STRAND1        1         C6         7   \n",
       "\n",
       "   Strand_j  Resid_j Atomname_j  Atomid_j       k      b0  \n",
       "72  STRAND1        2         C6        26  0.5612  3.9443  \n",
       "73  STRAND1        2         C5        27  0.9818  3.8171  \n",
       "74  STRAND1        2         C7        28  0.6615  3.8506  \n",
       "85  STRAND1        2         C5        27  0.3479  4.0620  \n",
       "86  STRAND1        2         C7        28  1.0008  3.6941  "
      ]
     },
     "execution_count": 3,
     "metadata": {},
     "output_type": "execute_result"
    }
   ],
   "source": [
    "g_agent.df_st.head()"
   ]
  },
  {
   "cell_type": "markdown",
   "metadata": {},
   "source": [
    "### Part 2: Build Node List"
   ]
  },
  {
   "cell_type": "code",
   "execution_count": 4,
   "metadata": {},
   "outputs": [
    {
     "name": "stdout",
     "output_type": "stream",
     "text": [
      "Thare are 399 nodes.\n"
     ]
    }
   ],
   "source": [
    "g_agent.build_node_list_base()\n",
    "print(f\"Thare are {g_agent.n_node} nodes.\")"
   ]
  },
  {
   "cell_type": "markdown",
   "metadata": {},
   "source": [
    "### Part 3: Build Adjacency Matrix"
   ]
  },
  {
   "cell_type": "code",
   "execution_count": 5,
   "metadata": {},
   "outputs": [],
   "source": [
    "g_agent.build_adjacency_from_df_st()"
   ]
  },
  {
   "cell_type": "code",
   "execution_count": 6,
   "metadata": {},
   "outputs": [
    {
     "data": {
      "text/plain": [
       "True"
      ]
     },
     "execution_count": 6,
     "metadata": {},
     "output_type": "execute_result"
    }
   ],
   "source": [
    "# Check Matrix Symmetrix\n",
    "np.allclose(g_agent.adjacency_mat, g_agent.adjacency_mat.T, rtol=rtol, atol=atol)"
   ]
  },
  {
   "cell_type": "markdown",
   "metadata": {},
   "source": [
    "### Part 4: Build Degree Matrix"
   ]
  },
  {
   "cell_type": "code",
   "execution_count": 7,
   "metadata": {},
   "outputs": [],
   "source": [
    "g_agent.build_degree_from_adjacency()"
   ]
  },
  {
   "cell_type": "code",
   "execution_count": 8,
   "metadata": {},
   "outputs": [
    {
     "data": {
      "text/plain": [
       "True"
      ]
     },
     "execution_count": 8,
     "metadata": {},
     "output_type": "execute_result"
    }
   ],
   "source": [
    "# Check diagonal matrix\n",
    "np.allclose(g_agent.degree_mat, np.diag(np.diag(g_agent.degree_mat))) # check if diagonal"
   ]
  },
  {
   "cell_type": "markdown",
   "metadata": {},
   "source": [
    "### Part 5: Build Laplacian Matrix"
   ]
  },
  {
   "cell_type": "code",
   "execution_count": 9,
   "metadata": {},
   "outputs": [
    {
     "name": "stdout",
     "output_type": "stream",
     "text": [
      "Finish the setup for Laplaican matrix.\n"
     ]
    }
   ],
   "source": [
    "g_agent.build_laplacian_by_adjacency_degree()"
   ]
  },
  {
   "cell_type": "code",
   "execution_count": 10,
   "metadata": {},
   "outputs": [
    {
     "data": {
      "text/plain": [
       "True"
      ]
     },
     "execution_count": 10,
     "metadata": {},
     "output_type": "execute_result"
    }
   ],
   "source": [
    "# Check Matrix Symmetrix\n",
    "np.allclose(g_agent.laplacian_mat, g_agent.laplacian_mat.T, rtol=rtol, atol=atol)"
   ]
  },
  {
   "cell_type": "markdown",
   "metadata": {},
   "source": [
    "### Part 6: Do Eigen-decomposition\n",
    "Reference: https://numpy.org/doc/stable/reference/generated/numpy.linalg.eig.html"
   ]
  },
  {
   "cell_type": "code",
   "execution_count": 11,
   "metadata": {},
   "outputs": [],
   "source": [
    "w, v = np.linalg.eig(g_agent.laplacian_mat)"
   ]
  },
  {
   "cell_type": "code",
   "execution_count": 13,
   "metadata": {},
   "outputs": [],
   "source": [
    "idx = w.argsort()[::-1]   \n",
    "w = w[idx]\n",
    "v = v[:,idx]"
   ]
  },
  {
   "cell_type": "markdown",
   "metadata": {},
   "source": [
    "### Part 7: Observe"
   ]
  },
  {
   "cell_type": "code",
   "execution_count": null,
   "metadata": {},
   "outputs": [],
   "source": [
    "sele_id = 1\n",
    "\n",
    "fig, ax = plt.subplots(figsize=(8,4))\n",
    "\n",
    "\n",
    "plt.show()"
   ]
  }
 ],
 "metadata": {
  "kernelspec": {
   "display_name": "Python 3",
   "language": "python",
   "name": "python3"
  },
  "language_info": {
   "codemirror_mode": {
    "name": "ipython",
    "version": 3
   },
   "file_extension": ".py",
   "mimetype": "text/x-python",
   "name": "python",
   "nbconvert_exporter": "python",
   "pygments_lexer": "ipython3",
   "version": "3.8.5"
  }
 },
 "nbformat": 4,
 "nbformat_minor": 4
}
