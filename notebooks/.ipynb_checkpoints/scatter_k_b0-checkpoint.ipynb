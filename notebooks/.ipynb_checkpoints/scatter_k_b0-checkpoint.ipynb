{
 "cells": [
  {
   "cell_type": "code",
   "execution_count": 1,
   "metadata": {},
   "outputs": [],
   "source": [
    "from enmspring.spring import Spring\n",
    "from enmspring import k_b0_util"
   ]
  },
  {
   "cell_type": "markdown",
   "metadata": {},
   "source": [
    "### Part 0: Initialize"
   ]
  },
  {
   "cell_type": "code",
   "execution_count": 2,
   "metadata": {},
   "outputs": [
    {
     "name": "stdout",
     "output_type": "stream",
     "text": [
      "/home/yizaochen/codes/dna_rna/fluctmatch_sequence/atat_21mer/bdna+bdna/pd_dfs exists\n"
     ]
    }
   ],
   "source": [
    "rootfolder = '/home/yizaochen/codes/dna_rna/fluctmatch_sequence'\n",
    "cutoff = 4.7\n",
    "host = 'atat_21mer'\n",
    "type_na = 'bdna+bdna'\n",
    "n_bp = 21\n",
    "spring_obj = Spring(rootfolder, host, type_na, n_bp)"
   ]
  },
  {
   "cell_type": "markdown",
   "metadata": {},
   "source": [
    "### Part 1 : Process Data"
   ]
  },
  {
   "cell_type": "code",
   "execution_count": 3,
   "metadata": {},
   "outputs": [],
   "source": [
    "df0 = spring_obj.read_k_b0_pairtype_df_given_cutoff(cutoff)\n",
    "df_central_bps = k_b0_util.get_central_bps_df(df0)"
   ]
  },
  {
   "cell_type": "code",
   "execution_count": 4,
   "metadata": {},
   "outputs": [
    {
     "data": {
      "text/html": [
       "<div>\n",
       "<style scoped>\n",
       "    .dataframe tbody tr th:only-of-type {\n",
       "        vertical-align: middle;\n",
       "    }\n",
       "\n",
       "    .dataframe tbody tr th {\n",
       "        vertical-align: top;\n",
       "    }\n",
       "\n",
       "    .dataframe thead th {\n",
       "        text-align: right;\n",
       "    }\n",
       "</style>\n",
       "<table border=\"1\" class=\"dataframe\">\n",
       "  <thead>\n",
       "    <tr style=\"text-align: right;\">\n",
       "      <th></th>\n",
       "      <th>PairID</th>\n",
       "      <th>PairType</th>\n",
       "      <th>Big_Category</th>\n",
       "      <th>Strand_i</th>\n",
       "      <th>Resid_i</th>\n",
       "      <th>Atomname_i</th>\n",
       "      <th>Atomid_i</th>\n",
       "      <th>Strand_j</th>\n",
       "      <th>Resid_j</th>\n",
       "      <th>Atomname_j</th>\n",
       "      <th>Atomid_j</th>\n",
       "      <th>k</th>\n",
       "      <th>b0</th>\n",
       "    </tr>\n",
       "  </thead>\n",
       "  <tbody>\n",
       "    <tr>\n",
       "      <th>798</th>\n",
       "      <td>799</td>\n",
       "      <td>same-P-P-0</td>\n",
       "      <td>backbone</td>\n",
       "      <td>STRAND1</td>\n",
       "      <td>4</td>\n",
       "      <td>P</td>\n",
       "      <td>60</td>\n",
       "      <td>STRAND1</td>\n",
       "      <td>4</td>\n",
       "      <td>O1P</td>\n",
       "      <td>61</td>\n",
       "      <td>33.2810</td>\n",
       "      <td>1.3945</td>\n",
       "    </tr>\n",
       "    <tr>\n",
       "      <th>799</th>\n",
       "      <td>800</td>\n",
       "      <td>same-P-P-0</td>\n",
       "      <td>backbone</td>\n",
       "      <td>STRAND1</td>\n",
       "      <td>4</td>\n",
       "      <td>P</td>\n",
       "      <td>60</td>\n",
       "      <td>STRAND1</td>\n",
       "      <td>4</td>\n",
       "      <td>O2P</td>\n",
       "      <td>62</td>\n",
       "      <td>26.4786</td>\n",
       "      <td>1.3845</td>\n",
       "    </tr>\n",
       "    <tr>\n",
       "      <th>800</th>\n",
       "      <td>801</td>\n",
       "      <td>same-P-P-0</td>\n",
       "      <td>backbone</td>\n",
       "      <td>STRAND1</td>\n",
       "      <td>4</td>\n",
       "      <td>P</td>\n",
       "      <td>60</td>\n",
       "      <td>STRAND1</td>\n",
       "      <td>4</td>\n",
       "      <td>O5'</td>\n",
       "      <td>63</td>\n",
       "      <td>23.1420</td>\n",
       "      <td>1.4993</td>\n",
       "    </tr>\n",
       "    <tr>\n",
       "      <th>801</th>\n",
       "      <td>802</td>\n",
       "      <td>same-P-P-0</td>\n",
       "      <td>backbone</td>\n",
       "      <td>STRAND1</td>\n",
       "      <td>4</td>\n",
       "      <td>P</td>\n",
       "      <td>60</td>\n",
       "      <td>STRAND1</td>\n",
       "      <td>4</td>\n",
       "      <td>C5'</td>\n",
       "      <td>64</td>\n",
       "      <td>3.9123</td>\n",
       "      <td>2.4646</td>\n",
       "    </tr>\n",
       "    <tr>\n",
       "      <th>805</th>\n",
       "      <td>806</td>\n",
       "      <td>same-P-S-0</td>\n",
       "      <td>backbone</td>\n",
       "      <td>STRAND1</td>\n",
       "      <td>4</td>\n",
       "      <td>P</td>\n",
       "      <td>60</td>\n",
       "      <td>STRAND1</td>\n",
       "      <td>4</td>\n",
       "      <td>C2'</td>\n",
       "      <td>78</td>\n",
       "      <td>0.3945</td>\n",
       "      <td>4.6752</td>\n",
       "    </tr>\n",
       "  </tbody>\n",
       "</table>\n",
       "</div>"
      ],
      "text/plain": [
       "     PairID    PairType Big_Category Strand_i  Resid_i Atomname_i  Atomid_i  \\\n",
       "798     799  same-P-P-0     backbone  STRAND1        4          P        60   \n",
       "799     800  same-P-P-0     backbone  STRAND1        4          P        60   \n",
       "800     801  same-P-P-0     backbone  STRAND1        4          P        60   \n",
       "801     802  same-P-P-0     backbone  STRAND1        4          P        60   \n",
       "805     806  same-P-S-0     backbone  STRAND1        4          P        60   \n",
       "\n",
       "    Strand_j  Resid_j Atomname_j  Atomid_j        k      b0  \n",
       "798  STRAND1        4        O1P        61  33.2810  1.3945  \n",
       "799  STRAND1        4        O2P        62  26.4786  1.3845  \n",
       "800  STRAND1        4        O5'        63  23.1420  1.4993  \n",
       "801  STRAND1        4        C5'        64   3.9123  2.4646  \n",
       "805  STRAND1        4        C2'        78   0.3945  4.6752  "
      ]
     },
     "execution_count": 4,
     "metadata": {},
     "output_type": "execute_result"
    }
   ],
   "source": [
    "df_central_bps.head()"
   ]
  },
  {
   "cell_type": "code",
   "execution_count": null,
   "metadata": {},
   "outputs": [],
   "source": []
  }
 ],
 "metadata": {
  "kernelspec": {
   "display_name": "Python 3",
   "language": "python",
   "name": "python3"
  },
  "language_info": {
   "codemirror_mode": {
    "name": "ipython",
    "version": 3
   },
   "file_extension": ".py",
   "mimetype": "text/x-python",
   "name": "python",
   "nbconvert_exporter": "python",
   "pygments_lexer": "ipython3",
   "version": "3.8.5"
  }
 },
 "nbformat": 4,
 "nbformat_minor": 4
}
