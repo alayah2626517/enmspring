{
 "cells": [
  {
   "cell_type": "code",
   "execution_count": 1,
   "metadata": {},
   "outputs": [],
   "source": [
    "from enmspring.spring import Spring\n",
    "clean_criteria = 1e-3\n",
    "interactions = ['other', 'backbone', 'stack', 'sugar', 'HB']"
   ]
  },
  {
   "cell_type": "markdown",
   "metadata": {},
   "source": [
    "### Part 0: Initialize"
   ]
  },
  {
   "cell_type": "code",
   "execution_count": 37,
   "metadata": {},
   "outputs": [
    {
     "name": "stdout",
     "output_type": "stream",
     "text": [
      "mkdir /Users/alayah361/fluctmatch/enm/cg_21/21_nome/bdna+bdna/pd_dfs\n"
     ]
    }
   ],
   "source": [
    "rootfolder = '/Users/alayah361/fluctmatch/enm/cg_21'\n",
    "cutoff = 4.7\n",
    "host = '21_nome'\n",
    "type_na = 'bdna+bdna'\n",
    "n_bp = 21\n",
    "spring_obj = Spring(rootfolder, host, type_na, n_bp)"
   ]
  },
  {
   "cell_type": "markdown",
   "metadata": {},
   "source": [
    "### Part 1: Set requiedment map"
   ]
  },
  {
   "cell_type": "code",
   "execution_count": 38,
   "metadata": {},
   "outputs": [],
   "source": [
    "spring_obj.set_mda_universe()\n",
    "spring_obj.set_required_map()"
   ]
  },
  {
   "cell_type": "markdown",
   "metadata": {},
   "source": [
    "### Part 2: Make DataFrame"
   ]
  },
  {
   "cell_type": "code",
   "execution_count": 39,
   "metadata": {},
   "outputs": [
    {
     "name": "stdout",
     "output_type": "stream",
     "text": [
      "There are 1130 other-bonds\n",
      "There are 1671 backbone-bonds\n",
      "There are 960 stack-bonds\n",
      "There are 1235 sugar-bonds\n",
      "There are 485 HB-bonds\n"
     ]
    }
   ],
   "source": [
    "df = spring_obj.make_k_b0_pairtype_df_given_cutoff(cutoff)\n",
    "mask = df['k'] > clean_criteria\n",
    "df_1 = df[mask]\n",
    "for interaction in interactions:\n",
    "    mask = df_1['Big_Category'] == interaction\n",
    "    df_2 = df_1[mask]\n",
    "    n_bonds = df_2.shape[0]\n",
    "    print(f'There are {n_bonds} {interaction}-bonds')"
   ]
  },
  {
   "cell_type": "markdown",
   "metadata": {},
   "source": [
    "### Part 2: Number of bonds -> Table\n",
    "\n",
    "|   | Backbone | Ribose | Stack | HB | Other |\n",
    "|---|----------|--------|-------|----|-------|\n",
    "|  atat_21mer |  1702 | 1219  |  1067  | 378  |  1139 |\n",
    "| a_tract_21mer  | 1659  | 1219  |  1178 | 362  | 1146  |\n",
    "| ctct_21mer  | 1683  | 1182  | 1096  | 378  |  1144 |\n",
    "| gcgc_21mer  | 1649  |  1213 |  977 | 459  | 1134  |\n",
    "|  g_tract_21mer | 1737  | 1180  | 1008 | 379  |  1134 |\n",
    "|  tgtg_21mer |  1715 |  1216 |  1007 | 422  | 1134  |"
   ]
  },
  {
   "cell_type": "code",
   "execution_count": null,
   "metadata": {},
   "outputs": [],
   "source": []
  }
 ],
 "metadata": {
  "kernelspec": {
   "display_name": "Python 3",
   "language": "python",
   "name": "python3"
  },
  "language_info": {
   "codemirror_mode": {
    "name": "ipython",
    "version": 3
   },
   "file_extension": ".py",
   "mimetype": "text/x-python",
   "name": "python",
   "nbconvert_exporter": "python",
   "pygments_lexer": "ipython3",
   "version": "3.8.6"
  }
 },
 "nbformat": 4,
 "nbformat_minor": 4
}
