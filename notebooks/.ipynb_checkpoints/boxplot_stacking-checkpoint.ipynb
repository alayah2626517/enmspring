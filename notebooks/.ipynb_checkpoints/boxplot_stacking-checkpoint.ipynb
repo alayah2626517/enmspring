{
 "cells": [
  {
   "cell_type": "code",
   "execution_count": 1,
   "metadata": {},
   "outputs": [],
   "source": [
    "from enmspring.stack_util import StackAgent\n",
    "import matplotlib.pyplot as plt"
   ]
  },
  {
   "cell_type": "markdown",
   "metadata": {},
   "source": [
    "### Part 0: Initialize"
   ]
  },
  {
   "cell_type": "code",
   "execution_count": 24,
   "metadata": {},
   "outputs": [
    {
     "name": "stdout",
     "output_type": "stream",
     "text": [
      "/home/yizaochen/codes/dna_rna/fluctmatch_sequence/a_tract_21mer/bdna+bdna/pd_dfs exists\n"
     ]
    }
   ],
   "source": [
    "rootfolder = '/home/yizaochen/codes/dna_rna/fluctmatch_sequence'\n",
    "host = 'a_tract_21mer'\n",
    "n_bp = 21\n",
    "st_agent = StackAgent(host, rootfolder, n_bp)"
   ]
  },
  {
   "cell_type": "code",
   "execution_count": 25,
   "metadata": {},
   "outputs": [
    {
     "data": {
      "text/html": [
       "<div>\n",
       "<style scoped>\n",
       "    .dataframe tbody tr th:only-of-type {\n",
       "        vertical-align: middle;\n",
       "    }\n",
       "\n",
       "    .dataframe tbody tr th {\n",
       "        vertical-align: top;\n",
       "    }\n",
       "\n",
       "    .dataframe thead th {\n",
       "        text-align: right;\n",
       "    }\n",
       "</style>\n",
       "<table border=\"1\" class=\"dataframe\">\n",
       "  <thead>\n",
       "    <tr style=\"text-align: right;\">\n",
       "      <th></th>\n",
       "      <th>PairID</th>\n",
       "      <th>PairType</th>\n",
       "      <th>Big_Category</th>\n",
       "      <th>Strand_i</th>\n",
       "      <th>Resid_i</th>\n",
       "      <th>Atomname_i</th>\n",
       "      <th>Atomid_i</th>\n",
       "      <th>Strand_j</th>\n",
       "      <th>Resid_j</th>\n",
       "      <th>Atomname_j</th>\n",
       "      <th>Atomid_j</th>\n",
       "      <th>k</th>\n",
       "      <th>b0</th>\n",
       "    </tr>\n",
       "  </thead>\n",
       "  <tbody>\n",
       "    <tr>\n",
       "      <th>78</th>\n",
       "      <td>79</td>\n",
       "      <td>STACK-1</td>\n",
       "      <td>stack</td>\n",
       "      <td>STRAND1</td>\n",
       "      <td>1</td>\n",
       "      <td>N9</td>\n",
       "      <td>6</td>\n",
       "      <td>STRAND1</td>\n",
       "      <td>2</td>\n",
       "      <td>C8</td>\n",
       "      <td>28</td>\n",
       "      <td>0.2395</td>\n",
       "      <td>3.6840</td>\n",
       "    </tr>\n",
       "    <tr>\n",
       "      <th>79</th>\n",
       "      <td>80</td>\n",
       "      <td>STACK-1</td>\n",
       "      <td>stack</td>\n",
       "      <td>STRAND1</td>\n",
       "      <td>1</td>\n",
       "      <td>N9</td>\n",
       "      <td>6</td>\n",
       "      <td>STRAND1</td>\n",
       "      <td>2</td>\n",
       "      <td>N7</td>\n",
       "      <td>29</td>\n",
       "      <td>0.3350</td>\n",
       "      <td>3.5543</td>\n",
       "    </tr>\n",
       "    <tr>\n",
       "      <th>80</th>\n",
       "      <td>81</td>\n",
       "      <td>STACK-1</td>\n",
       "      <td>stack</td>\n",
       "      <td>STRAND1</td>\n",
       "      <td>1</td>\n",
       "      <td>N9</td>\n",
       "      <td>6</td>\n",
       "      <td>STRAND1</td>\n",
       "      <td>2</td>\n",
       "      <td>C5</td>\n",
       "      <td>30</td>\n",
       "      <td>0.2749</td>\n",
       "      <td>3.9279</td>\n",
       "    </tr>\n",
       "    <tr>\n",
       "      <th>94</th>\n",
       "      <td>95</td>\n",
       "      <td>STACK-1</td>\n",
       "      <td>stack</td>\n",
       "      <td>STRAND1</td>\n",
       "      <td>1</td>\n",
       "      <td>C8</td>\n",
       "      <td>7</td>\n",
       "      <td>STRAND1</td>\n",
       "      <td>2</td>\n",
       "      <td>C8</td>\n",
       "      <td>28</td>\n",
       "      <td>0.0916</td>\n",
       "      <td>3.9429</td>\n",
       "    </tr>\n",
       "    <tr>\n",
       "      <th>95</th>\n",
       "      <td>96</td>\n",
       "      <td>STACK-1</td>\n",
       "      <td>stack</td>\n",
       "      <td>STRAND1</td>\n",
       "      <td>1</td>\n",
       "      <td>C8</td>\n",
       "      <td>7</td>\n",
       "      <td>STRAND1</td>\n",
       "      <td>2</td>\n",
       "      <td>N7</td>\n",
       "      <td>29</td>\n",
       "      <td>0.1937</td>\n",
       "      <td>3.5251</td>\n",
       "    </tr>\n",
       "    <tr>\n",
       "      <th>...</th>\n",
       "      <td>...</td>\n",
       "      <td>...</td>\n",
       "      <td>...</td>\n",
       "      <td>...</td>\n",
       "      <td>...</td>\n",
       "      <td>...</td>\n",
       "      <td>...</td>\n",
       "      <td>...</td>\n",
       "      <td>...</td>\n",
       "      <td>...</td>\n",
       "      <td>...</td>\n",
       "      <td>...</td>\n",
       "      <td>...</td>\n",
       "    </tr>\n",
       "    <tr>\n",
       "      <th>9040</th>\n",
       "      <td>9041</td>\n",
       "      <td>STACK-1</td>\n",
       "      <td>stack</td>\n",
       "      <td>STRAND2</td>\n",
       "      <td>20</td>\n",
       "      <td>C2</td>\n",
       "      <td>831</td>\n",
       "      <td>STRAND2</td>\n",
       "      <td>21</td>\n",
       "      <td>O2</td>\n",
       "      <td>852</td>\n",
       "      <td>0.1566</td>\n",
       "      <td>4.3049</td>\n",
       "    </tr>\n",
       "    <tr>\n",
       "      <th>9046</th>\n",
       "      <td>9047</td>\n",
       "      <td>STACK-1</td>\n",
       "      <td>stack</td>\n",
       "      <td>STRAND2</td>\n",
       "      <td>20</td>\n",
       "      <td>O2</td>\n",
       "      <td>832</td>\n",
       "      <td>STRAND2</td>\n",
       "      <td>21</td>\n",
       "      <td>N1</td>\n",
       "      <td>844</td>\n",
       "      <td>0.1857</td>\n",
       "      <td>3.4642</td>\n",
       "    </tr>\n",
       "    <tr>\n",
       "      <th>9047</th>\n",
       "      <td>9048</td>\n",
       "      <td>STACK-1</td>\n",
       "      <td>stack</td>\n",
       "      <td>STRAND2</td>\n",
       "      <td>20</td>\n",
       "      <td>O2</td>\n",
       "      <td>832</td>\n",
       "      <td>STRAND2</td>\n",
       "      <td>21</td>\n",
       "      <td>C6</td>\n",
       "      <td>845</td>\n",
       "      <td>0.0055</td>\n",
       "      <td>3.8124</td>\n",
       "    </tr>\n",
       "    <tr>\n",
       "      <th>9051</th>\n",
       "      <td>9052</td>\n",
       "      <td>STACK-1</td>\n",
       "      <td>stack</td>\n",
       "      <td>STRAND2</td>\n",
       "      <td>20</td>\n",
       "      <td>O2</td>\n",
       "      <td>832</td>\n",
       "      <td>STRAND2</td>\n",
       "      <td>21</td>\n",
       "      <td>C2</td>\n",
       "      <td>851</td>\n",
       "      <td>0.1252</td>\n",
       "      <td>3.6138</td>\n",
       "    </tr>\n",
       "    <tr>\n",
       "      <th>9052</th>\n",
       "      <td>9053</td>\n",
       "      <td>STACK-1</td>\n",
       "      <td>stack</td>\n",
       "      <td>STRAND2</td>\n",
       "      <td>20</td>\n",
       "      <td>O2</td>\n",
       "      <td>832</td>\n",
       "      <td>STRAND2</td>\n",
       "      <td>21</td>\n",
       "      <td>O2</td>\n",
       "      <td>852</td>\n",
       "      <td>0.1762</td>\n",
       "      <td>3.9361</td>\n",
       "    </tr>\n",
       "  </tbody>\n",
       "</table>\n",
       "<p>1178 rows × 13 columns</p>\n",
       "</div>"
      ],
      "text/plain": [
       "      PairID PairType Big_Category Strand_i  Resid_i Atomname_i  Atomid_i  \\\n",
       "78        79  STACK-1        stack  STRAND1        1         N9         6   \n",
       "79        80  STACK-1        stack  STRAND1        1         N9         6   \n",
       "80        81  STACK-1        stack  STRAND1        1         N9         6   \n",
       "94        95  STACK-1        stack  STRAND1        1         C8         7   \n",
       "95        96  STACK-1        stack  STRAND1        1         C8         7   \n",
       "...      ...      ...          ...      ...      ...        ...       ...   \n",
       "9040    9041  STACK-1        stack  STRAND2       20         C2       831   \n",
       "9046    9047  STACK-1        stack  STRAND2       20         O2       832   \n",
       "9047    9048  STACK-1        stack  STRAND2       20         O2       832   \n",
       "9051    9052  STACK-1        stack  STRAND2       20         O2       832   \n",
       "9052    9053  STACK-1        stack  STRAND2       20         O2       832   \n",
       "\n",
       "     Strand_j  Resid_j Atomname_j  Atomid_j       k      b0  \n",
       "78    STRAND1        2         C8        28  0.2395  3.6840  \n",
       "79    STRAND1        2         N7        29  0.3350  3.5543  \n",
       "80    STRAND1        2         C5        30  0.2749  3.9279  \n",
       "94    STRAND1        2         C8        28  0.0916  3.9429  \n",
       "95    STRAND1        2         N7        29  0.1937  3.5251  \n",
       "...       ...      ...        ...       ...     ...     ...  \n",
       "9040  STRAND2       21         O2       852  0.1566  4.3049  \n",
       "9046  STRAND2       21         N1       844  0.1857  3.4642  \n",
       "9047  STRAND2       21         C6       845  0.0055  3.8124  \n",
       "9051  STRAND2       21         C2       851  0.1252  3.6138  \n",
       "9052  STRAND2       21         O2       852  0.1762  3.9361  \n",
       "\n",
       "[1178 rows x 13 columns]"
      ]
     },
     "execution_count": 25,
     "metadata": {},
     "output_type": "execute_result"
    }
   ],
   "source": [
    "st_agent.df_st"
   ]
  },
  {
   "cell_type": "markdown",
   "metadata": {},
   "source": [
    "### Part 1: Process stacking data"
   ]
  },
  {
   "cell_type": "code",
   "execution_count": 26,
   "metadata": {},
   "outputs": [],
   "source": [
    "st_agent.update_d_result()"
   ]
  },
  {
   "cell_type": "markdown",
   "metadata": {},
   "source": [
    "### Part 2: Box Plot"
   ]
  },
  {
   "cell_type": "code",
   "execution_count": 27,
   "metadata": {},
   "outputs": [
    {
     "data": {
      "image/png": "[encoded data removed]",
      "text/plain": [
       "<Figure size 1152x288 with 2 Axes>"
      ]
     },
     "metadata": {
      "needs_background": "light"
     },
     "output_type": "display_data"
    }
   ],
   "source": [
    "figsize = (16, 4)\n",
    "lbfz = 12\n",
    "fig, axes = st_agent.boxplot(figsize, lbfz)\n",
    "plt.tight_layout()\n",
    "plt.savefig(f'{host}_stack_boxplot.png', dpi=200)\n",
    "plt.show()"
   ]
  },
  {
   "cell_type": "markdown",
   "metadata": {},
   "source": [
    "### Part 3: Bar Plot"
   ]
  },
  {
   "cell_type": "code",
   "execution_count": 28,
   "metadata": {},
   "outputs": [
    {
     "data": {
      "image/png": "[encoded data removed]",
      "text/plain": [
       "<Figure size 1152x288 with 2 Axes>"
      ]
     },
     "metadata": {
      "needs_background": "light"
     },
     "output_type": "display_data"
    }
   ],
   "source": [
    "figsize = (16, 4)\n",
    "lbfz = 12\n",
    "fig, axes = st_agent.barplot(figsize, lbfz)\n",
    "plt.tight_layout()\n",
    "plt.savefig(f'{host}_stack_barplot.png', dpi=200)\n",
    "plt.show()"
   ]
  },
  {
   "cell_type": "code",
   "execution_count": null,
   "metadata": {},
   "outputs": [],
   "source": []
  }
 ],
 "metadata": {
  "kernelspec": {
   "display_name": "Python 3",
   "language": "python",
   "name": "python3"
  },
  "language_info": {
   "codemirror_mode": {
    "name": "ipython",
    "version": 3
   },
   "file_extension": ".py",
   "mimetype": "text/x-python",
   "name": "python",
   "nbconvert_exporter": "python",
   "pygments_lexer": "ipython3",
   "version": "3.8.5"
  }
 },
 "nbformat": 4,
 "nbformat_minor": 4
}
