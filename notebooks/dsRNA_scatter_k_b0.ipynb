{
 "cells": [
  {
   "cell_type": "markdown",
   "metadata": {},
   "source": [
    "### Part 0: Initialize"
   ]
  },
  {
   "cell_type": "code",
   "execution_count": 1,
   "metadata": {},
   "outputs": [],
   "source": [
    "import molecular_interaction, k_b0_util, figS2_dsRNA\n",
    "d_natom = {'arna+arna': 676, 'bdna+bdna': 650}"
   ]
  },
  {
   "cell_type": "code",
   "execution_count": 2,
   "metadata": {},
   "outputs": [
    {
     "name": "stdout",
     "output_type": "stream",
     "text": [
      "/home/yizaochen/PycharmProjects/ENM/pnas_amber_16mer/arna+arna/w_vector exists\n",
      "/home/yizaochen/PycharmProjects/ENM/pnas_amber_16mer/arna+arna/weak_allmodes exists\n",
      "/home/yizaochen/PycharmProjects/ENM/pnas_amber_16mer/arna+arna/contributions exists\n",
      "/home/yizaochen/PycharmProjects/ENM/pnas_amber_16mer/arna+arna/pd_dfs exists\n",
      "/home/yizaochen/PycharmProjects/ENM/pnas_amber_16mer/arna+arna/qha_fm_map_df exists\n",
      "/home/yizaochen/PycharmProjects/ENM/pnas_amber_16mer/arna+arna/k_matrices exists\n",
      "/home/yizaochen/PycharmProjects/ENM/pnas_amber_16mer/arna+arna/svd exists\n",
      "/home/yizaochen/PycharmProjects/ENM/pnas_amber_16mer/arna+arna/bondlist exists\n",
      "/home/yizaochen/PycharmProjects/ENM/pnas_amber_16mer/arna+arna/diffcutoff exists\n"
     ]
    }
   ],
   "source": [
    "host = 'pnas_amber_16mer'\n",
    "type_na = 'arna+arna'\n",
    "\n",
    "n_bp = 16\n",
    "n_atom = d_natom[type_na]\n",
    "ml_agent = molecular_interaction.MolecularInteractionAgent(host, type_na, n_bp=n_bp, n_atoms=n_atom)"
   ]
  },
  {
   "cell_type": "markdown",
   "metadata": {},
   "source": [
    "### Part 1: Process Data"
   ]
  },
  {
   "cell_type": "code",
   "execution_count": 3,
   "metadata": {},
   "outputs": [],
   "source": [
    "cutoff = 4.7\n",
    "df0 = ml_agent.read_k_b0_pairtype_df_given_cutoff(cutoff)\n",
    "df_central_bps = k_b0_util.get_central_bps_df(df0)"
   ]
  },
  {
   "cell_type": "code",
   "execution_count": 4,
   "metadata": {},
   "outputs": [
    {
     "data": {
      "text/html": [
       "<div>\n",
       "<style scoped>\n",
       "    .dataframe tbody tr th:only-of-type {\n",
       "        vertical-align: middle;\n",
       "    }\n",
       "\n",
       "    .dataframe tbody tr th {\n",
       "        vertical-align: top;\n",
       "    }\n",
       "\n",
       "    .dataframe thead th {\n",
       "        text-align: right;\n",
       "    }\n",
       "</style>\n",
       "<table border=\"1\" class=\"dataframe\">\n",
       "  <thead>\n",
       "    <tr style=\"text-align: right;\">\n",
       "      <th></th>\n",
       "      <th>PairID</th>\n",
       "      <th>PairType</th>\n",
       "      <th>Big_Category</th>\n",
       "      <th>Strand_i</th>\n",
       "      <th>Resid_i</th>\n",
       "      <th>Atomname_i</th>\n",
       "      <th>Atomid_i</th>\n",
       "      <th>Strand_j</th>\n",
       "      <th>Resid_j</th>\n",
       "      <th>Atomname_j</th>\n",
       "      <th>Atomid_j</th>\n",
       "      <th>k</th>\n",
       "      <th>b0</th>\n",
       "    </tr>\n",
       "  </thead>\n",
       "  <tbody>\n",
       "    <tr>\n",
       "      <th>817</th>\n",
       "      <td>818</td>\n",
       "      <td>same-P-P-0</td>\n",
       "      <td>backbone</td>\n",
       "      <td>STRAND1</td>\n",
       "      <td>4</td>\n",
       "      <td>P</td>\n",
       "      <td>64</td>\n",
       "      <td>STRAND1</td>\n",
       "      <td>4</td>\n",
       "      <td>O1P</td>\n",
       "      <td>65</td>\n",
       "      <td>101.7380</td>\n",
       "      <td>1.4337</td>\n",
       "    </tr>\n",
       "    <tr>\n",
       "      <th>818</th>\n",
       "      <td>819</td>\n",
       "      <td>same-P-P-0</td>\n",
       "      <td>backbone</td>\n",
       "      <td>STRAND1</td>\n",
       "      <td>4</td>\n",
       "      <td>P</td>\n",
       "      <td>64</td>\n",
       "      <td>STRAND1</td>\n",
       "      <td>4</td>\n",
       "      <td>O2P</td>\n",
       "      <td>66</td>\n",
       "      <td>106.8903</td>\n",
       "      <td>1.4341</td>\n",
       "    </tr>\n",
       "    <tr>\n",
       "      <th>819</th>\n",
       "      <td>820</td>\n",
       "      <td>same-P-P-0</td>\n",
       "      <td>backbone</td>\n",
       "      <td>STRAND1</td>\n",
       "      <td>4</td>\n",
       "      <td>P</td>\n",
       "      <td>64</td>\n",
       "      <td>STRAND1</td>\n",
       "      <td>4</td>\n",
       "      <td>O5'</td>\n",
       "      <td>67</td>\n",
       "      <td>84.2981</td>\n",
       "      <td>1.5523</td>\n",
       "    </tr>\n",
       "    <tr>\n",
       "      <th>820</th>\n",
       "      <td>821</td>\n",
       "      <td>same-P-P-0</td>\n",
       "      <td>backbone</td>\n",
       "      <td>STRAND1</td>\n",
       "      <td>4</td>\n",
       "      <td>P</td>\n",
       "      <td>64</td>\n",
       "      <td>STRAND1</td>\n",
       "      <td>4</td>\n",
       "      <td>C5'</td>\n",
       "      <td>68</td>\n",
       "      <td>25.2907</td>\n",
       "      <td>2.5680</td>\n",
       "    </tr>\n",
       "    <tr>\n",
       "      <th>825</th>\n",
       "      <td>826</td>\n",
       "      <td>same-P-P-0</td>\n",
       "      <td>backbone</td>\n",
       "      <td>STRAND1</td>\n",
       "      <td>4</td>\n",
       "      <td>O1P</td>\n",
       "      <td>65</td>\n",
       "      <td>STRAND1</td>\n",
       "      <td>4</td>\n",
       "      <td>O2P</td>\n",
       "      <td>66</td>\n",
       "      <td>38.8565</td>\n",
       "      <td>2.4678</td>\n",
       "    </tr>\n",
       "  </tbody>\n",
       "</table>\n",
       "</div>"
      ],
      "text/plain": [
       "     PairID    PairType Big_Category Strand_i  Resid_i Atomname_i  Atomid_i  \\\n",
       "817     818  same-P-P-0     backbone  STRAND1        4          P        64   \n",
       "818     819  same-P-P-0     backbone  STRAND1        4          P        64   \n",
       "819     820  same-P-P-0     backbone  STRAND1        4          P        64   \n",
       "820     821  same-P-P-0     backbone  STRAND1        4          P        64   \n",
       "825     826  same-P-P-0     backbone  STRAND1        4        O1P        65   \n",
       "\n",
       "    Strand_j  Resid_j Atomname_j  Atomid_j         k      b0  \n",
       "817  STRAND1        4        O1P        65  101.7380  1.4337  \n",
       "818  STRAND1        4        O2P        66  106.8903  1.4341  \n",
       "819  STRAND1        4        O5'        67   84.2981  1.5523  \n",
       "820  STRAND1        4        C5'        68   25.2907  2.5680  \n",
       "825  STRAND1        4        O2P        66   38.8565  2.4678  "
      ]
     },
     "execution_count": 4,
     "metadata": {},
     "output_type": "execute_result"
    }
   ],
   "source": [
    "df_central_bps.head()"
   ]
  },
  {
   "cell_type": "markdown",
   "metadata": {},
   "source": [
    "### Part 3: Scatter k-b0"
   ]
  },
  {
   "cell_type": "code",
   "execution_count": 5,
   "metadata": {},
   "outputs": [],
   "source": [
    "figsize=(6.4, 3.33)\n",
    "dpi=300\n",
    "dsrna = figS2_dsRNA.dsRNA(df_central_bps, figsize, dpi)"
   ]
  },
  {
   "cell_type": "code",
   "execution_count": 6,
   "metadata": {},
   "outputs": [
    {
     "data": {
      "image/png": "[encoded data removed]",
      "text/plain": [
       "<Figure size 460.8x239.76 with 6 Axes>"
      ]
     },
     "metadata": {
      "needs_background": "light"
     },
     "output_type": "display_data"
    }
   ],
   "source": [
    "dsrna.plot_main()"
   ]
  },
  {
   "cell_type": "markdown",
   "metadata": {},
   "source": [
    "### Reload Function"
   ]
  },
  {
   "cell_type": "code",
   "execution_count": 28,
   "metadata": {},
   "outputs": [
    {
     "data": {
      "text/plain": [
       "<module 'figS2_dsRNA' from '/home/yizaochen/PycharmProjects/na_paper1_2019/ipynbs/draw_zone/figureS2/figS2_dsRNA.py'>"
      ]
     },
     "execution_count": 28,
     "metadata": {},
     "output_type": "execute_result"
    }
   ],
   "source": [
    "from imp import reload\n",
    "reload(figS2_dsRNA)"
   ]
  },
  {
   "cell_type": "code",
   "execution_count": null,
   "metadata": {},
   "outputs": [],
   "source": []
  }
 ],
 "metadata": {
  "kernelspec": {
   "display_name": "Python 3",
   "language": "python",
   "name": "python3"
  },
  "language_info": {
   "codemirror_mode": {
    "name": "ipython",
    "version": 3
   },
   "file_extension": ".py",
   "mimetype": "text/x-python",
   "name": "python",
   "nbconvert_exporter": "python",
   "pygments_lexer": "ipython3",
   "version": "3.7.4"
  }
 },
 "nbformat": 4,
 "nbformat_minor": 4
}
