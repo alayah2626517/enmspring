{
 "cells": [
  {
   "cell_type": "markdown",
   "metadata": {},
   "source": [
    "#### Using VMD to draw different types of HB bonds"
   ]
  },
  {
   "cell_type": "code",
   "execution_count": 1,
   "metadata": {},
   "outputs": [],
   "source": [
    "from os import path\n",
    "from enmspring.hb_util import HBPainter\n",
    "rootfolder = '/home/yizaochen/codes/dna_rna/enmspring'"
   ]
  },
  {
   "cell_type": "markdown",
   "metadata": {},
   "source": [
    "### Part 0: cd to notebook folder"
   ]
  },
  {
   "cell_type": "code",
   "execution_count": 2,
   "metadata": {},
   "outputs": [
    {
     "name": "stdout",
     "output_type": "stream",
     "text": [
      "cd /home/yizaochen/codes/dna_rna/enmspring/notebooks\n"
     ]
    }
   ],
   "source": [
    "nb_folder = path.join(rootfolder, 'notebooks')\n",
    "print(f'cd {nb_folder}')"
   ]
  },
  {
   "cell_type": "markdown",
   "metadata": {},
   "source": [
    "### Part 1: Set G-tract and GCGC locations"
   ]
  },
  {
   "cell_type": "code",
   "execution_count": 8,
   "metadata": {},
   "outputs": [
    {
     "name": "stdout",
     "output_type": "stream",
     "text": [
      "vmd -pdb /home/yizaochen/codes/dna_rna/enmspring/pdb_gro/gcgc_21mer.perfect.pdb\n"
     ]
    }
   ],
   "source": [
    "host = 'gcgc_21mer' # Ad hoc\n",
    "\n",
    "pdb_gro_folder = path.join(rootfolder, 'pdb_gro')\n",
    "target_gro = path.join(pdb_gro_folder, f'{host}.perfect.pdb')\n",
    "f_out = f'{host}_hbtype.tcl'\n",
    "print(f'vmd -pdb {target_gro}')"
   ]
  },
  {
   "cell_type": "markdown",
   "metadata": {},
   "source": [
    "### Part 2: Draw fixing points"
   ]
  },
  {
   "cell_type": "code",
   "execution_count": 9,
   "metadata": {},
   "outputs": [
    {
     "name": "stdout",
     "output_type": "stream",
     "text": [
      "source ini_hb.tcl\n"
     ]
    }
   ],
   "source": [
    "print('source ini_hb.tcl')"
   ]
  },
  {
   "cell_type": "markdown",
   "metadata": {},
   "source": [
    "### Part 3: Use MDAnalysis and write a tcl script"
   ]
  },
  {
   "cell_type": "markdown",
   "metadata": {},
   "source": [
    "example: `graphics 0 line {1 1 1} {2 2 2} width 5`"
   ]
  },
  {
   "cell_type": "code",
   "execution_count": 13,
   "metadata": {},
   "outputs": [],
   "source": [
    "mol_id = 0\n",
    "painter = HBPainter(host, target_gro, f_out, mol_id)"
   ]
  },
  {
   "cell_type": "code",
   "execution_count": 14,
   "metadata": {},
   "outputs": [
    {
     "name": "stdout",
     "output_type": "stream",
     "text": [
      "Write draw codes into gcgc_21mer_hbtype.tcl\n"
     ]
    }
   ],
   "source": [
    "painter.main()"
   ]
  },
  {
   "cell_type": "code",
   "execution_count": 15,
   "metadata": {},
   "outputs": [
    {
     "name": "stdout",
     "output_type": "stream",
     "text": [
      "source gcgc_21mer_hbtype.tcl\n"
     ]
    }
   ],
   "source": [
    "print(f'source {f_out}')"
   ]
  },
  {
   "cell_type": "code",
   "execution_count": null,
   "metadata": {},
   "outputs": [],
   "source": []
  }
 ],
 "metadata": {
  "kernelspec": {
   "display_name": "Python 3",
   "language": "python",
   "name": "python3"
  },
  "language_info": {
   "codemirror_mode": {
    "name": "ipython",
    "version": 3
   },
   "file_extension": ".py",
   "mimetype": "text/x-python",
   "name": "python",
   "nbconvert_exporter": "python",
   "pygments_lexer": "ipython3",
   "version": "3.8.5"
  }
 },
 "nbformat": 4,
 "nbformat_minor": 4
}
