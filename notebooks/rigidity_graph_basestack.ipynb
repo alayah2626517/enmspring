{
 "cells": [
  {
   "cell_type": "code",
   "execution_count": 12,
   "metadata": {},
   "outputs": [],
   "source": [
    "import numpy as np\n",
    "from enmspring.graphs import GraphAgent\n",
    "import matplotlib.pyplot as plt\n",
    "rootfolder = '/home/yizaochen/codes/dna_rna/fluctmatch_sequence'\n",
    "rtol=1e-05\n",
    "atol=1e-08"
   ]
  },
  {
   "cell_type": "markdown",
   "metadata": {},
   "source": [
    "### Part 1: Initialize"
   ]
  },
  {
   "cell_type": "code",
   "execution_count": 82,
   "metadata": {},
   "outputs": [
    {
     "name": "stdout",
     "output_type": "stream",
     "text": [
      "/home/yizaochen/codes/dna_rna/fluctmatch_sequence/tgtg_21mer/bdna+bdna/pd_dfs exists\n"
     ]
    }
   ],
   "source": [
    "host = 'tgtg_21mer'\n",
    "g_agent = GraphAgent(host, rootfolder)"
   ]
  },
  {
   "cell_type": "code",
   "execution_count": 83,
   "metadata": {},
   "outputs": [
    {
     "data": {
      "text/html": [
       "<div>\n",
       "<style scoped>\n",
       "    .dataframe tbody tr th:only-of-type {\n",
       "        vertical-align: middle;\n",
       "    }\n",
       "\n",
       "    .dataframe tbody tr th {\n",
       "        vertical-align: top;\n",
       "    }\n",
       "\n",
       "    .dataframe thead th {\n",
       "        text-align: right;\n",
       "    }\n",
       "</style>\n",
       "<table border=\"1\" class=\"dataframe\">\n",
       "  <thead>\n",
       "    <tr style=\"text-align: right;\">\n",
       "      <th></th>\n",
       "      <th>PairID</th>\n",
       "      <th>PairType</th>\n",
       "      <th>Big_Category</th>\n",
       "      <th>Strand_i</th>\n",
       "      <th>Resid_i</th>\n",
       "      <th>Atomname_i</th>\n",
       "      <th>Atomid_i</th>\n",
       "      <th>Strand_j</th>\n",
       "      <th>Resid_j</th>\n",
       "      <th>Atomname_j</th>\n",
       "      <th>Atomid_j</th>\n",
       "      <th>k</th>\n",
       "      <th>b0</th>\n",
       "    </tr>\n",
       "  </thead>\n",
       "  <tbody>\n",
       "    <tr>\n",
       "      <th>99</th>\n",
       "      <td>100</td>\n",
       "      <td>STACK-1</td>\n",
       "      <td>stack</td>\n",
       "      <td>STRAND1</td>\n",
       "      <td>1</td>\n",
       "      <td>N1</td>\n",
       "      <td>6</td>\n",
       "      <td>STRAND1</td>\n",
       "      <td>2</td>\n",
       "      <td>N7</td>\n",
       "      <td>28</td>\n",
       "      <td>0.0164</td>\n",
       "      <td>4.3530</td>\n",
       "    </tr>\n",
       "    <tr>\n",
       "      <th>114</th>\n",
       "      <td>115</td>\n",
       "      <td>STACK-1</td>\n",
       "      <td>stack</td>\n",
       "      <td>STRAND1</td>\n",
       "      <td>1</td>\n",
       "      <td>C6</td>\n",
       "      <td>7</td>\n",
       "      <td>STRAND1</td>\n",
       "      <td>2</td>\n",
       "      <td>N7</td>\n",
       "      <td>28</td>\n",
       "      <td>0.0124</td>\n",
       "      <td>4.3330</td>\n",
       "    </tr>\n",
       "    <tr>\n",
       "      <th>115</th>\n",
       "      <td>116</td>\n",
       "      <td>STACK-1</td>\n",
       "      <td>stack</td>\n",
       "      <td>STRAND1</td>\n",
       "      <td>1</td>\n",
       "      <td>C6</td>\n",
       "      <td>7</td>\n",
       "      <td>STRAND1</td>\n",
       "      <td>2</td>\n",
       "      <td>C5</td>\n",
       "      <td>29</td>\n",
       "      <td>0.0148</td>\n",
       "      <td>4.6244</td>\n",
       "    </tr>\n",
       "    <tr>\n",
       "      <th>126</th>\n",
       "      <td>127</td>\n",
       "      <td>STACK-1</td>\n",
       "      <td>stack</td>\n",
       "      <td>STRAND1</td>\n",
       "      <td>1</td>\n",
       "      <td>C5</td>\n",
       "      <td>8</td>\n",
       "      <td>STRAND1</td>\n",
       "      <td>2</td>\n",
       "      <td>N7</td>\n",
       "      <td>28</td>\n",
       "      <td>0.0040</td>\n",
       "      <td>4.6771</td>\n",
       "    </tr>\n",
       "    <tr>\n",
       "      <th>127</th>\n",
       "      <td>128</td>\n",
       "      <td>STACK-1</td>\n",
       "      <td>stack</td>\n",
       "      <td>STRAND1</td>\n",
       "      <td>1</td>\n",
       "      <td>C5</td>\n",
       "      <td>8</td>\n",
       "      <td>STRAND1</td>\n",
       "      <td>2</td>\n",
       "      <td>C5</td>\n",
       "      <td>29</td>\n",
       "      <td>0.0324</td>\n",
       "      <td>4.6790</td>\n",
       "    </tr>\n",
       "  </tbody>\n",
       "</table>\n",
       "</div>"
      ],
      "text/plain": [
       "     PairID PairType Big_Category Strand_i  Resid_i Atomname_i  Atomid_i  \\\n",
       "99      100  STACK-1        stack  STRAND1        1         N1         6   \n",
       "114     115  STACK-1        stack  STRAND1        1         C6         7   \n",
       "115     116  STACK-1        stack  STRAND1        1         C6         7   \n",
       "126     127  STACK-1        stack  STRAND1        1         C5         8   \n",
       "127     128  STACK-1        stack  STRAND1        1         C5         8   \n",
       "\n",
       "    Strand_j  Resid_j Atomname_j  Atomid_j       k      b0  \n",
       "99   STRAND1        2         N7        28  0.0164  4.3530  \n",
       "114  STRAND1        2         N7        28  0.0124  4.3330  \n",
       "115  STRAND1        2         C5        29  0.0148  4.6244  \n",
       "126  STRAND1        2         N7        28  0.0040  4.6771  \n",
       "127  STRAND1        2         C5        29  0.0324  4.6790  "
      ]
     },
     "execution_count": 83,
     "metadata": {},
     "output_type": "execute_result"
    }
   ],
   "source": [
    "g_agent.df_st.head()"
   ]
  },
  {
   "cell_type": "markdown",
   "metadata": {},
   "source": [
    "### Part 2: Build Node List"
   ]
  },
  {
   "cell_type": "code",
   "execution_count": 84,
   "metadata": {},
   "outputs": [
    {
     "name": "stdout",
     "output_type": "stream",
     "text": [
      "Thare are 399 nodes.\n"
     ]
    }
   ],
   "source": [
    "g_agent.build_node_list_base()\n",
    "print(f\"Thare are {g_agent.n_node} nodes.\")"
   ]
  },
  {
   "cell_type": "markdown",
   "metadata": {},
   "source": [
    "### Part 3: Build Adjacency Matrix"
   ]
  },
  {
   "cell_type": "code",
   "execution_count": 85,
   "metadata": {},
   "outputs": [],
   "source": [
    "g_agent.build_adjacency_from_df_st()"
   ]
  },
  {
   "cell_type": "code",
   "execution_count": 86,
   "metadata": {},
   "outputs": [
    {
     "data": {
      "text/plain": [
       "True"
      ]
     },
     "execution_count": 86,
     "metadata": {},
     "output_type": "execute_result"
    }
   ],
   "source": [
    "# Check Matrix Symmetrix\n",
    "np.allclose(g_agent.adjacency_mat, g_agent.adjacency_mat.T, rtol=rtol, atol=atol)"
   ]
  },
  {
   "cell_type": "markdown",
   "metadata": {},
   "source": [
    "### Part 4: Build Degree Matrix"
   ]
  },
  {
   "cell_type": "code",
   "execution_count": 87,
   "metadata": {},
   "outputs": [],
   "source": [
    "g_agent.build_degree_from_adjacency()"
   ]
  },
  {
   "cell_type": "code",
   "execution_count": 88,
   "metadata": {},
   "outputs": [
    {
     "data": {
      "text/plain": [
       "True"
      ]
     },
     "execution_count": 88,
     "metadata": {},
     "output_type": "execute_result"
    }
   ],
   "source": [
    "# Check diagonal matrix\n",
    "np.allclose(g_agent.degree_mat, np.diag(np.diag(g_agent.degree_mat))) # check if diagonal"
   ]
  },
  {
   "cell_type": "markdown",
   "metadata": {},
   "source": [
    "### Part 5: Build Laplacian Matrix"
   ]
  },
  {
   "cell_type": "code",
   "execution_count": 89,
   "metadata": {},
   "outputs": [
    {
     "name": "stdout",
     "output_type": "stream",
     "text": [
      "Finish the setup for Laplaican matrix.\n"
     ]
    }
   ],
   "source": [
    "g_agent.build_laplacian_by_adjacency_degree()"
   ]
  },
  {
   "cell_type": "code",
   "execution_count": 90,
   "metadata": {},
   "outputs": [
    {
     "data": {
      "text/plain": [
       "True"
      ]
     },
     "execution_count": 90,
     "metadata": {},
     "output_type": "execute_result"
    }
   ],
   "source": [
    "# Check Matrix Symmetrix\n",
    "np.allclose(g_agent.laplacian_mat, g_agent.laplacian_mat.T, rtol=rtol, atol=atol)"
   ]
  },
  {
   "cell_type": "markdown",
   "metadata": {},
   "source": [
    "### Part 6: Do Eigen-decomposition\n",
    "Reference: https://numpy.org/doc/stable/reference/generated/numpy.linalg.eig.html"
   ]
  },
  {
   "cell_type": "code",
   "execution_count": 91,
   "metadata": {},
   "outputs": [],
   "source": [
    "w, v = np.linalg.eig(g_agent.laplacian_mat)"
   ]
  },
  {
   "cell_type": "code",
   "execution_count": 92,
   "metadata": {},
   "outputs": [],
   "source": [
    "# Sort\n",
    "idx = w.argsort()[::-1]   \n",
    "w = w[idx]\n",
    "v = v[:,idx]"
   ]
  },
  {
   "cell_type": "markdown",
   "metadata": {},
   "source": [
    "### Part 7: Observe"
   ]
  },
  {
   "cell_type": "code",
   "execution_count": 93,
   "metadata": {},
   "outputs": [
    {
     "data": {
      "image/png": "[encoded data removed]",
      "text/plain": [
       "<Figure size 1440x288 with 1 Axes>"
      ]
     },
     "metadata": {
      "needs_background": "light"
     },
     "output_type": "display_data"
    }
   ],
   "source": [
    "sele_id = 1\n",
    "w_sele = w[sele_id-1]\n",
    "v_sele = v[:, sele_id-1]\n",
    "x = range(1, g_agent.n_node+1)\n",
    "\n",
    "fig, ax = plt.subplots(figsize=(20, 4))\n",
    "title = f'{host}   $\\lambda_{sele_id}=$' + f'{w_sele:.2f}'\n",
    "ax.set_title(title)\n",
    "ax.vlines(x, 0, v_sele, colors='b', lw=4)\n",
    "ax.set_xlabel(\"CG-bead ID\")\n",
    "ax.set_ylabel(\"Eigenvector\")\n",
    "ax.set_xlim(1, g_agent.n_node+1)\n",
    "\n",
    "plt.show()"
   ]
  },
  {
   "cell_type": "code",
   "execution_count": 81,
   "metadata": {},
   "outputs": [
    {
     "data": {
      "image/png": "[encoded data removed]",
      "text/plain": [
       "<Figure size 1440x288 with 1 Axes>"
      ]
     },
     "metadata": {
      "needs_background": "light"
     },
     "output_type": "display_data"
    }
   ],
   "source": [
    "sele_id = 1\n",
    "w_sele = w[sele_id-1]\n",
    "v_sele = v[:, sele_id-1]\n",
    "x = range(1, g_agent.n_node+1)\n",
    "\n",
    "fig, ax = plt.subplots(figsize=(20, 4))\n",
    "title = f'{host}   $\\lambda_{sele_id}=$' + f'{w_sele:.2f}'\n",
    "ax.set_title(title)\n",
    "ax.vlines(x, 0, v_sele, colors='b', lw=4)\n",
    "ax.set_xlabel(\"CG-bead ID\")\n",
    "ax.set_ylabel(\"Eigenvector\")\n",
    "ax.set_xlim(1, g_agent.n_node+1)\n",
    "\n",
    "plt.show()"
   ]
  },
  {
   "cell_type": "code",
   "execution_count": 69,
   "metadata": {},
   "outputs": [
    {
     "data": {
      "image/png": "[encoded data removed]",
      "text/plain": [
       "<Figure size 1440x288 with 1 Axes>"
      ]
     },
     "metadata": {
      "needs_background": "light"
     },
     "output_type": "display_data"
    }
   ],
   "source": [
    "sele_id = 1\n",
    "w_sele = w[sele_id-1]\n",
    "v_sele = v[:, sele_id-1]\n",
    "x = range(1, g_agent.n_node+1)\n",
    "\n",
    "fig, ax = plt.subplots(figsize=(20, 4))\n",
    "title = f'{host}   $\\lambda_{sele_id}=$' + f'{w_sele:.2f}'\n",
    "ax.set_title(title)\n",
    "ax.vlines(x, 0, v_sele, colors='b', lw=4)\n",
    "ax.set_xlabel(\"CG-bead ID\")\n",
    "ax.set_ylabel(\"Eigenvector\")\n",
    "ax.set_xlim(1, g_agent.n_node+1)\n",
    "\n",
    "plt.show()"
   ]
  },
  {
   "cell_type": "code",
   "execution_count": 57,
   "metadata": {},
   "outputs": [
    {
     "data": {
      "image/png": "[encoded data removed]",
      "text/plain": [
       "<Figure size 1440x288 with 1 Axes>"
      ]
     },
     "metadata": {
      "needs_background": "light"
     },
     "output_type": "display_data"
    }
   ],
   "source": [
    "sele_id = 1\n",
    "w_sele = w[sele_id-1]\n",
    "v_sele = v[:, sele_id-1]\n",
    "x = range(1, g_agent.n_node+1)\n",
    "\n",
    "fig, ax = plt.subplots(figsize=(20, 4))\n",
    "title = f'{host}   $\\lambda_{sele_id}=$' + f'{w_sele:.2f}'\n",
    "ax.set_title(title)\n",
    "ax.vlines(x, 0, v_sele, colors='b', lw=4)\n",
    "ax.set_xlabel(\"CG-bead ID\")\n",
    "ax.set_ylabel(\"Eigenvector\")\n",
    "ax.set_xlim(1, g_agent.n_node+1)\n",
    "\n",
    "plt.show()"
   ]
  },
  {
   "cell_type": "code",
   "execution_count": 46,
   "metadata": {},
   "outputs": [
    {
     "data": {
      "image/png": "[encoded data removed]",
      "text/plain": [
       "<Figure size 1440x288 with 1 Axes>"
      ]
     },
     "metadata": {
      "needs_background": "light"
     },
     "output_type": "display_data"
    }
   ],
   "source": [
    "sele_id = 1\n",
    "w_sele = w[sele_id-1]\n",
    "v_sele = v[:, sele_id-1]\n",
    "x = range(1, g_agent.n_node+1)\n",
    "\n",
    "fig, ax = plt.subplots(figsize=(20, 4))\n",
    "title = f'{host}   $\\lambda_{sele_id}=$' + f'{w_sele:.2f}'\n",
    "ax.set_title(title)\n",
    "ax.vlines(x, 0, v_sele, colors='b', lw=4)\n",
    "ax.set_xlabel(\"CG-bead ID\")\n",
    "ax.set_ylabel(\"Eigenvector\")\n",
    "ax.set_xlim(1, g_agent.n_node+1)\n",
    "\n",
    "plt.show()"
   ]
  },
  {
   "cell_type": "code",
   "execution_count": 34,
   "metadata": {},
   "outputs": [
    {
     "data": {
      "image/png": "[encoded data removed]",
      "text/plain": [
       "<Figure size 1440x288 with 1 Axes>"
      ]
     },
     "metadata": {
      "needs_background": "light"
     },
     "output_type": "display_data"
    }
   ],
   "source": [
    "sele_id = 1\n",
    "w_sele = w[sele_id-1]\n",
    "v_sele = v[:, sele_id-1]\n",
    "x = range(1, g_agent.n_node+1)\n",
    "\n",
    "fig, ax = plt.subplots(figsize=(20, 4))\n",
    "title = f'{host}   $\\lambda_{sele_id}=$' + f'{w_sele:.2f}'\n",
    "ax.set_title(title)\n",
    "ax.vlines(x, 0, v_sele, colors='b', lw=4)\n",
    "ax.set_xlabel(\"CG-bead ID\")\n",
    "ax.set_ylabel(\"Eigenvector\")\n",
    "ax.set_xlim(1, g_agent.n_node+1)\n",
    "\n",
    "plt.show()"
   ]
  },
  {
   "cell_type": "code",
   "execution_count": 32,
   "metadata": {},
   "outputs": [
    {
     "data": {
      "image/png": "[encoded data removed]",
      "text/plain": [
       "<Figure size 1440x288 with 1 Axes>"
      ]
     },
     "metadata": {
      "needs_background": "light"
     },
     "output_type": "display_data"
    }
   ],
   "source": [
    "sele_id = 10\n",
    "w_sele = w[sele_id-1]\n",
    "v_sele = v[:, sele_id-1]\n",
    "x = range(1, g_agent.n_node+1)\n",
    "\n",
    "fig, ax = plt.subplots(figsize=(20, 4))\n",
    "title = f'$\\lambda_{sele_id}=$' + f'{w_sele:.2f}'\n",
    "ax.set_title(title)\n",
    "ax.vlines(x, 0, v_sele, colors='b', lw=4)\n",
    "ax.set_xlabel(\"CG-bead ID\")\n",
    "ax.set_ylabel(\"Eigenvector\")\n",
    "ax.set_xlim(1, g_agent.n_node+1)\n",
    "\n",
    "plt.show()"
   ]
  },
  {
   "cell_type": "code",
   "execution_count": null,
   "metadata": {},
   "outputs": [],
   "source": []
  }
 ],
 "metadata": {
  "kernelspec": {
   "display_name": "Python 3",
   "language": "python",
   "name": "python3"
  },
  "language_info": {
   "codemirror_mode": {
    "name": "ipython",
    "version": 3
   },
   "file_extension": ".py",
   "mimetype": "text/x-python",
   "name": "python",
   "nbconvert_exporter": "python",
   "pygments_lexer": "ipython3",
   "version": "3.8.5"
  }
 },
 "nbformat": 4,
 "nbformat_minor": 4
}
