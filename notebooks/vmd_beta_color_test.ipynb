{
 "cells": [
  {
   "cell_type": "code",
   "execution_count": 6,
   "metadata": {},
   "outputs": [],
   "source": [
    "from os import path\n",
    "import numpy as np\n",
    "from enmspring import PDB"
   ]
  },
  {
   "cell_type": "markdown",
   "metadata": {},
   "source": [
    "### Part 1: Set the location of the test pdb"
   ]
  },
  {
   "cell_type": "code",
   "execution_count": 2,
   "metadata": {},
   "outputs": [
    {
     "name": "stdout",
     "output_type": "stream",
     "text": [
      "vmd -pdb /home/yizaochen/codes/dna_rna/enmspring/pdb_gro/g_tract_21mer.perfect.pdb\n",
      "vim /home/yizaochen/codes/dna_rna/enmspring/pdb_gro/g_tract_21mer.perfect.pdb\n"
     ]
    }
   ],
   "source": [
    "rootfolder = '/home/yizaochen/codes/dna_rna/enmspring/pdb_gro'\n",
    "pdb_in = path.join(rootfolder, 'g_tract_21mer.perfect.pdb')\n",
    "print(f'vmd -pdb {pdb_in}')\n",
    "print(f'vim {pdb_in}')"
   ]
  },
  {
   "cell_type": "markdown",
   "metadata": {},
   "source": [
    "### Part 2: Read pdb in"
   ]
  },
  {
   "cell_type": "code",
   "execution_count": 3,
   "metadata": {},
   "outputs": [],
   "source": [
    "reader = PDB.PDBReader(pdb_in, skip_header=4, skip_footer=2)"
   ]
  },
  {
   "cell_type": "code",
   "execution_count": 5,
   "metadata": {},
   "outputs": [
    {
     "data": {
      "text/plain": [
       "0.0"
      ]
     },
     "execution_count": 5,
     "metadata": {},
     "output_type": "execute_result"
    }
   ],
   "source": [
    "atom1 = reader.atomgroup[0]\n",
    "atom1.tempFactor"
   ]
  },
  {
   "cell_type": "markdown",
   "metadata": {},
   "source": [
    "### Part 3-1: Random generate tempFactor in [0,1]"
   ]
  },
  {
   "cell_type": "code",
   "execution_count": 12,
   "metadata": {},
   "outputs": [],
   "source": [
    "for atom in reader.atomgroup:\n",
    "    atom.tempFactor = np.random.random()"
   ]
  },
  {
   "cell_type": "markdown",
   "metadata": {},
   "source": [
    "### Part 3-2: Linear tempFactor in [-1,1]"
   ]
  },
  {
   "cell_type": "code",
   "execution_count": 23,
   "metadata": {},
   "outputs": [],
   "source": [
    "n_atoms = len(reader.atomgroup)\n",
    "for atom, bfactor in zip(reader.atomgroup, np.linspace(-1,1,n_atoms)):\n",
    "    atom.tempFactor = bfactor"
   ]
  },
  {
   "cell_type": "markdown",
   "metadata": {},
   "source": [
    "### Part 4: Output PDB"
   ]
  },
  {
   "cell_type": "code",
   "execution_count": 24,
   "metadata": {},
   "outputs": [
    {
     "name": "stdout",
     "output_type": "stream",
     "text": [
      "Write PDB: /home/yizaochen/codes/dna_rna/enmspring/pdb_gro/tempfactor_test.pdb\n",
      "vmd -pdb /home/yizaochen/codes/dna_rna/enmspring/pdb_gro/tempfactor_test.pdb\n",
      "vim /home/yizaochen/codes/dna_rna/enmspring/pdb_gro/tempfactor_test.pdb\n"
     ]
    }
   ],
   "source": [
    "pdb_out = path.join(rootfolder, 'tempfactor_test.pdb')\n",
    "writer = PDB.PDBWriter(pdb_out, reader.atomgroup)\n",
    "writer.write_pdb()\n",
    "print(f'vmd -pdb {pdb_out}')\n",
    "print(f'vim {pdb_out}')"
   ]
  },
  {
   "cell_type": "markdown",
   "metadata": {},
   "source": [
    "### Reference:\n",
    "https://www.mdanalysis.org/MDAnalysisTutorial/writing.html"
   ]
  },
  {
   "cell_type": "code",
   "execution_count": null,
   "metadata": {},
   "outputs": [],
   "source": []
  }
 ],
 "metadata": {
  "kernelspec": {
   "display_name": "Python 3",
   "language": "python",
   "name": "python3"
  },
  "language_info": {
   "codemirror_mode": {
    "name": "ipython",
    "version": 3
   },
   "file_extension": ".py",
   "mimetype": "text/x-python",
   "name": "python",
   "nbconvert_exporter": "python",
   "pygments_lexer": "ipython3",
   "version": "3.8.5"
  }
 },
 "nbformat": 4,
 "nbformat_minor": 4
}
