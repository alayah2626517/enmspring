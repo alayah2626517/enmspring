{
 "cells": [
  {
   "cell_type": "markdown",
   "metadata": {},
   "source": [
    "### Part 0: Initialize"
   ]
  },
  {
   "cell_type": "code",
   "execution_count": 21,
   "metadata": {},
   "outputs": [],
   "source": [
    "import numpy as np\n",
    "import pandas as pd\n",
    "import enm\n",
    "import molecular_interaction\n",
    "from IPython.display import clear_output\n",
    "\n",
    "clean_criteria = 1e-3\n",
    "d_natom = {'arna+arna': 676, 'bdna+bdna': 650}\n",
    "interactions = ['other', 'backbone', 'stack', 'sugar', 'HB']"
   ]
  },
  {
   "cell_type": "code",
   "execution_count": 9,
   "metadata": {},
   "outputs": [
    {
     "name": "stdout",
     "output_type": "stream",
     "text": [
      "/Users/yizao/PycharmProjects/ENM/pnas_amber_16mer exists\n",
      "/Users/yizao/PycharmProjects/ENM/pnas_amber_16mer/bdna+bdna exists\n",
      "/Users/yizao/PycharmProjects/ENM/pnas_amber_16mer/bdna+bdna/input exists\n",
      "/Users/yizao/PycharmProjects/ENM/pnas_amber_16mer/bdna+bdna/charmm_inp exists\n",
      "/Users/yizao/PycharmProjects/ENM/pnas_amber_16mer/bdna+bdna/charmm_dat exists\n",
      "/Users/yizao/PycharmProjects/ENM/pnas_amber_16mer/bdna+bdna/mode_traj exists\n",
      "/Users/yizao/PycharmProjects/ENM/pnas_amber_16mer/bdna+bdna/ic exists\n",
      "/Users/yizao/PycharmProjects/ENM/pnas_amber_16mer/bdna+bdna/ic_fluct_mat exists\n",
      "/Users/yizao/PycharmProjects/ENM/pnas_amber_16mer/bdna+bdna/rtf_ic_str exists\n",
      "/Users/yizao/PycharmProjects/ENM/pnas_amber_16mer/bdna+bdna/data exists\n",
      "/Users/yizao/PycharmProjects/ENM/pnas_amber_16mer/bdna+bdna/data/backup exists\n",
      "/Users/yizao/PycharmProjects/ENM/pnas_amber_16mer/bdna+bdna/w_vector exists\n",
      "/Users/yizao/PycharmProjects/ENM/pnas_amber_16mer/bdna+bdna/weak_allmodes exists\n",
      "/Users/yizao/PycharmProjects/ENM/pnas_amber_16mer/bdna+bdna/contributions exists\n",
      "/Users/yizao/PycharmProjects/ENM/pnas_amber_16mer/bdna+bdna/pd_dfs exists\n",
      "/Users/yizao/PycharmProjects/ENM/pnas_amber_16mer/bdna+bdna/qha_fm_map_df exists\n",
      "/Users/yizao/PycharmProjects/ENM/pnas_amber_16mer/bdna+bdna/k_matrices exists\n",
      "/Users/yizao/PycharmProjects/ENM/pnas_amber_16mer/bdna+bdna/svd exists\n",
      "/Users/yizao/PycharmProjects/ENM/pnas_amber_16mer/bdna+bdna/bondlist exists\n",
      "/Users/yizao/PycharmProjects/ENM/pnas_amber_16mer/bdna+bdna/diffcutoff exists\n"
     ]
    }
   ],
   "source": [
    "host = 'pnas_amber_16mer'\n",
    "type_na = 'bdna+bdna'\n",
    "e_agent = enm.ENMAgent(host, type_na)\n",
    "n_atom = d_natom[type_na]\n",
    "ml_agent = molecular_interaction.MolecularInteractionAgent(host, type_na, n_bp=16, n_atoms=n_atom)\n",
    "#clear_output()"
   ]
  },
  {
   "cell_type": "markdown",
   "metadata": {},
   "source": [
    "### Part 1: Make DataFrame "
   ]
  },
  {
   "cell_type": "code",
   "execution_count": 8,
   "metadata": {},
   "outputs": [
    {
     "name": "stdout",
     "output_type": "stream",
     "text": [
      "There are 868 other-bonds\n",
      "There are 1796 backbone-bonds\n",
      "There are 706 stack-bonds\n",
      "There are 1333 sugar-bonds\n",
      "There are 573 HB-bonds\n"
     ]
    }
   ],
   "source": [
    "# A-RR\n",
    "df = ml_agent.make_k_b0_pairtype_df(e_agent)\n",
    "mask = df['k'] > clean_criteria\n",
    "df_1 = df[mask]\n",
    "for interaction in interactions:\n",
    "    mask = df_1['Big_Category'] == interaction\n",
    "    df_2 = df_1[mask]\n",
    "    n_bonds = df_2.shape[0]\n",
    "    print(f'There are {n_bonds} {interaction}-bonds')"
   ]
  },
  {
   "cell_type": "code",
   "execution_count": 11,
   "metadata": {},
   "outputs": [
    {
     "name": "stdout",
     "output_type": "stream",
     "text": [
      "There are 905 other-bonds\n",
      "There are 1822 backbone-bonds\n",
      "There are 1050 stack-bonds\n",
      "There are 942 sugar-bonds\n",
      "There are 469 HB-bonds\n"
     ]
    }
   ],
   "source": [
    "# B-DD\n",
    "df = ml_agent.make_k_b0_pairtype_df(e_agent)\n",
    "mask = df['k'] > clean_criteria\n",
    "df_1 = df[mask]\n",
    "for interaction in interactions:\n",
    "    mask = df_1['Big_Category'] == interaction\n",
    "    df_2 = df_1[mask]\n",
    "    n_bonds = df_2.shape[0]\n",
    "    print(f'There are {n_bonds} {interaction}-bonds')"
   ]
  }
 ],
 "metadata": {
  "kernelspec": {
   "display_name": "Python 3",
   "language": "python",
   "name": "python3"
  },
  "language_info": {
   "codemirror_mode": {
    "name": "ipython",
    "version": 3
   },
   "file_extension": ".py",
   "mimetype": "text/x-python",
   "name": "python",
   "nbconvert_exporter": "python",
   "pygments_lexer": "ipython3",
   "version": "3.6.7"
  }
 },
 "nbformat": 4,
 "nbformat_minor": 4
}
